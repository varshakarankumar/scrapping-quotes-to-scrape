{
 "cells": [
  {
   "cell_type": "code",
   "execution_count": 10,
   "id": "7a888791",
   "metadata": {},
   "outputs": [],
   "source": [
    "import requests\n",
    "from tqdm import tqdm\n",
    "import pandas as pd\n",
    "from bs4 import BeautifulSoup"
   ]
  },
  {
   "cell_type": "code",
   "execution_count": 2,
   "id": "cd1289fe",
   "metadata": {},
   "outputs": [],
   "source": [
    "df=pd.read_csv(\"scrapper in jy.csv\")"
   ]
  },
  {
   "cell_type": "code",
   "execution_count": 3,
   "id": "e056a1d6",
   "metadata": {},
   "outputs": [
    {
     "data": {
      "text/html": [
       "<div>\n",
       "<style scoped>\n",
       "    .dataframe tbody tr th:only-of-type {\n",
       "        vertical-align: middle;\n",
       "    }\n",
       "\n",
       "    .dataframe tbody tr th {\n",
       "        vertical-align: top;\n",
       "    }\n",
       "\n",
       "    .dataframe thead th {\n",
       "        text-align: right;\n",
       "    }\n",
       "</style>\n",
       "<table border=\"1\" class=\"dataframe\">\n",
       "  <thead>\n",
       "    <tr style=\"text-align: right;\">\n",
       "      <th></th>\n",
       "      <th>quote</th>\n",
       "      <th>author</th>\n",
       "      <th>author_id</th>\n",
       "      <th>tags</th>\n",
       "    </tr>\n",
       "  </thead>\n",
       "  <tbody>\n",
       "    <tr>\n",
       "      <th>0</th>\n",
       "      <td>“The world as we have created it is a process ...</td>\n",
       "      <td>Albert Einstein</td>\n",
       "      <td>/author/Albert-Einstein</td>\n",
       "      <td>change,deep-thoughts,thinking,world</td>\n",
       "    </tr>\n",
       "    <tr>\n",
       "      <th>1</th>\n",
       "      <td>“It is our choices, Harry, that show what we t...</td>\n",
       "      <td>J.K. Rowling</td>\n",
       "      <td>/author/J-K-Rowling</td>\n",
       "      <td>abilities,choices</td>\n",
       "    </tr>\n",
       "    <tr>\n",
       "      <th>2</th>\n",
       "      <td>“There are only two ways to live your life. On...</td>\n",
       "      <td>Albert Einstein</td>\n",
       "      <td>/author/Albert-Einstein</td>\n",
       "      <td>inspirational,life,live,miracle,miracles</td>\n",
       "    </tr>\n",
       "    <tr>\n",
       "      <th>3</th>\n",
       "      <td>“The person, be it gentleman or lady, who has ...</td>\n",
       "      <td>Jane Austen</td>\n",
       "      <td>/author/Jane-Austen</td>\n",
       "      <td>aliteracy,books,classic,humor</td>\n",
       "    </tr>\n",
       "    <tr>\n",
       "      <th>4</th>\n",
       "      <td>“Imperfection is beauty, madness is genius and...</td>\n",
       "      <td>Marilyn Monroe</td>\n",
       "      <td>/author/Marilyn-Monroe</td>\n",
       "      <td>be-yourself,inspirational</td>\n",
       "    </tr>\n",
       "  </tbody>\n",
       "</table>\n",
       "</div>"
      ],
      "text/plain": [
       "                                               quote           author  \\\n",
       "0  “The world as we have created it is a process ...  Albert Einstein   \n",
       "1  “It is our choices, Harry, that show what we t...     J.K. Rowling   \n",
       "2  “There are only two ways to live your life. On...  Albert Einstein   \n",
       "3  “The person, be it gentleman or lady, who has ...      Jane Austen   \n",
       "4  “Imperfection is beauty, madness is genius and...   Marilyn Monroe   \n",
       "\n",
       "                 author_id                                      tags  \n",
       "0  /author/Albert-Einstein       change,deep-thoughts,thinking,world  \n",
       "1      /author/J-K-Rowling                         abilities,choices  \n",
       "2  /author/Albert-Einstein  inspirational,life,live,miracle,miracles  \n",
       "3      /author/Jane-Austen             aliteracy,books,classic,humor  \n",
       "4   /author/Marilyn-Monroe                 be-yourself,inspirational  "
      ]
     },
     "execution_count": 3,
     "metadata": {},
     "output_type": "execute_result"
    }
   ],
   "source": [
    "df.head()"
   ]
  },
  {
   "cell_type": "code",
   "execution_count": 4,
   "id": "c0bc9252",
   "metadata": {},
   "outputs": [],
   "source": [
    "del df['quote']\n",
    "del df['tags']\n"
   ]
  },
  {
   "cell_type": "code",
   "execution_count": 5,
   "id": "1b1dbe83",
   "metadata": {},
   "outputs": [
    {
     "data": {
      "text/html": [
       "<div>\n",
       "<style scoped>\n",
       "    .dataframe tbody tr th:only-of-type {\n",
       "        vertical-align: middle;\n",
       "    }\n",
       "\n",
       "    .dataframe tbody tr th {\n",
       "        vertical-align: top;\n",
       "    }\n",
       "\n",
       "    .dataframe thead th {\n",
       "        text-align: right;\n",
       "    }\n",
       "</style>\n",
       "<table border=\"1\" class=\"dataframe\">\n",
       "  <thead>\n",
       "    <tr style=\"text-align: right;\">\n",
       "      <th></th>\n",
       "      <th>author</th>\n",
       "      <th>author_id</th>\n",
       "    </tr>\n",
       "  </thead>\n",
       "  <tbody>\n",
       "    <tr>\n",
       "      <th>0</th>\n",
       "      <td>Albert Einstein</td>\n",
       "      <td>/author/Albert-Einstein</td>\n",
       "    </tr>\n",
       "    <tr>\n",
       "      <th>1</th>\n",
       "      <td>J.K. Rowling</td>\n",
       "      <td>/author/J-K-Rowling</td>\n",
       "    </tr>\n",
       "    <tr>\n",
       "      <th>2</th>\n",
       "      <td>Albert Einstein</td>\n",
       "      <td>/author/Albert-Einstein</td>\n",
       "    </tr>\n",
       "    <tr>\n",
       "      <th>3</th>\n",
       "      <td>Jane Austen</td>\n",
       "      <td>/author/Jane-Austen</td>\n",
       "    </tr>\n",
       "    <tr>\n",
       "      <th>4</th>\n",
       "      <td>Marilyn Monroe</td>\n",
       "      <td>/author/Marilyn-Monroe</td>\n",
       "    </tr>\n",
       "  </tbody>\n",
       "</table>\n",
       "</div>"
      ],
      "text/plain": [
       "            author                author_id\n",
       "0  Albert Einstein  /author/Albert-Einstein\n",
       "1     J.K. Rowling      /author/J-K-Rowling\n",
       "2  Albert Einstein  /author/Albert-Einstein\n",
       "3      Jane Austen      /author/Jane-Austen\n",
       "4   Marilyn Monroe   /author/Marilyn-Monroe"
      ]
     },
     "execution_count": 5,
     "metadata": {},
     "output_type": "execute_result"
    }
   ],
   "source": [
    "df.head()"
   ]
  },
  {
   "cell_type": "code",
   "execution_count": 6,
   "id": "13f20b3c",
   "metadata": {},
   "outputs": [
    {
     "data": {
      "text/plain": [
       "array([['Albert Einstein', '/author/Albert-Einstein'],\n",
       "       ['J.K. Rowling', '/author/J-K-Rowling'],\n",
       "       ['Albert Einstein', '/author/Albert-Einstein'],\n",
       "       ['Jane Austen', '/author/Jane-Austen'],\n",
       "       ['Marilyn Monroe', '/author/Marilyn-Monroe'],\n",
       "       ['Albert Einstein', '/author/Albert-Einstein'],\n",
       "       ['André Gide', '/author/Andre-Gide'],\n",
       "       ['Thomas A. Edison', '/author/Thomas-A-Edison'],\n",
       "       ['Eleanor Roosevelt', '/author/Eleanor-Roosevelt'],\n",
       "       ['Steve Martin', '/author/Steve-Martin'],\n",
       "       ['Albert Einstein', '/author/Albert-Einstein'],\n",
       "       ['J.K. Rowling', '/author/J-K-Rowling'],\n",
       "       ['Albert Einstein', '/author/Albert-Einstein'],\n",
       "       ['Jane Austen', '/author/Jane-Austen'],\n",
       "       ['Marilyn Monroe', '/author/Marilyn-Monroe'],\n",
       "       ['Albert Einstein', '/author/Albert-Einstein'],\n",
       "       ['André Gide', '/author/Andre-Gide'],\n",
       "       ['Thomas A. Edison', '/author/Thomas-A-Edison'],\n",
       "       ['Eleanor Roosevelt', '/author/Eleanor-Roosevelt'],\n",
       "       ['Steve Martin', '/author/Steve-Martin'],\n",
       "       ['Marilyn Monroe', '/author/Marilyn-Monroe'],\n",
       "       ['J.K. Rowling', '/author/J-K-Rowling'],\n",
       "       ['Albert Einstein', '/author/Albert-Einstein'],\n",
       "       ['Bob Marley', '/author/Bob-Marley'],\n",
       "       ['Dr. Seuss', '/author/Dr-Seuss'],\n",
       "       ['Douglas Adams', '/author/Douglas-Adams'],\n",
       "       ['Elie Wiesel', '/author/Elie-Wiesel'],\n",
       "       ['Friedrich Nietzsche', '/author/Friedrich-Nietzsche'],\n",
       "       ['Mark Twain', '/author/Mark-Twain'],\n",
       "       ['Allen Saunders', '/author/Allen-Saunders'],\n",
       "       ['Pablo Neruda', '/author/Pablo-Neruda'],\n",
       "       ['Ralph Waldo Emerson', '/author/Ralph-Waldo-Emerson'],\n",
       "       ['Mother Teresa', '/author/Mother-Teresa'],\n",
       "       ['Garrison Keillor', '/author/Garrison-Keillor'],\n",
       "       ['Jim Henson', '/author/Jim-Henson'],\n",
       "       ['Dr. Seuss', '/author/Dr-Seuss'],\n",
       "       ['Albert Einstein', '/author/Albert-Einstein'],\n",
       "       ['J.K. Rowling', '/author/J-K-Rowling'],\n",
       "       ['Albert Einstein', '/author/Albert-Einstein'],\n",
       "       ['Bob Marley', '/author/Bob-Marley'],\n",
       "       ['Dr. Seuss', '/author/Dr-Seuss'],\n",
       "       ['J.K. Rowling', '/author/J-K-Rowling'],\n",
       "       ['Bob Marley', '/author/Bob-Marley'],\n",
       "       ['Mother Teresa', '/author/Mother-Teresa'],\n",
       "       ['J.K. Rowling', '/author/J-K-Rowling'],\n",
       "       ['Charles M. Schulz', '/author/Charles-M-Schulz'],\n",
       "       ['William Nicholson', '/author/William-Nicholson'],\n",
       "       ['Albert Einstein', '/author/Albert-Einstein'],\n",
       "       ['Jorge Luis Borges', '/author/Jorge-Luis-Borges'],\n",
       "       ['George Eliot', '/author/George-Eliot'],\n",
       "       ['George R.R. Martin', '/author/George-R-R-Martin'],\n",
       "       ['C.S. Lewis', '/author/C-S-Lewis'],\n",
       "       ['Marilyn Monroe', '/author/Marilyn-Monroe'],\n",
       "       ['Marilyn Monroe', '/author/Marilyn-Monroe'],\n",
       "       ['Albert Einstein', '/author/Albert-Einstein'],\n",
       "       ['Marilyn Monroe', '/author/Marilyn-Monroe'],\n",
       "       ['Marilyn Monroe', '/author/Marilyn-Monroe'],\n",
       "       ['Martin Luther King Jr.', '/author/Martin-Luther-King-Jr'],\n",
       "       ['J.K. Rowling', '/author/J-K-Rowling'],\n",
       "       ['James Baldwin', '/author/James-Baldwin'],\n",
       "       ['Jane Austen', '/author/Jane-Austen'],\n",
       "       ['Eleanor Roosevelt', '/author/Eleanor-Roosevelt'],\n",
       "       ['Marilyn Monroe', '/author/Marilyn-Monroe'],\n",
       "       ['Albert Einstein', '/author/Albert-Einstein'],\n",
       "       ['Haruki Murakami', '/author/Haruki-Murakami'],\n",
       "       ['Alexandre Dumas fils', '/author/Alexandre-Dumas-fils'],\n",
       "       ['Stephenie Meyer', '/author/Stephenie-Meyer'],\n",
       "       ['Ernest Hemingway', '/author/Ernest-Hemingway'],\n",
       "       ['Helen Keller', '/author/Helen-Keller'],\n",
       "       ['George Bernard Shaw', '/author/George-Bernard-Shaw'],\n",
       "       ['Charles Bukowski', '/author/Charles-Bukowski'],\n",
       "       ['Suzanne Collins', '/author/Suzanne-Collins'],\n",
       "       ['Suzanne Collins', '/author/Suzanne-Collins'],\n",
       "       ['C.S. Lewis', '/author/C-S-Lewis'],\n",
       "       ['J.R.R. Tolkien', '/author/J-R-R-Tolkien'],\n",
       "       ['J.K. Rowling', '/author/J-K-Rowling'],\n",
       "       ['Ernest Hemingway', '/author/Ernest-Hemingway'],\n",
       "       ['Ralph Waldo Emerson', '/author/Ralph-Waldo-Emerson'],\n",
       "       ['Mark Twain', '/author/Mark-Twain'],\n",
       "       ['Dr. Seuss', '/author/Dr-Seuss'],\n",
       "       ['Alfred Tennyson', '/author/Alfred-Tennyson'],\n",
       "       ['Charles Bukowski', '/author/Charles-Bukowski'],\n",
       "       ['Terry Pratchett', '/author/Terry-Pratchett'],\n",
       "       ['Dr. Seuss', '/author/Dr-Seuss'],\n",
       "       ['J.D. Salinger', '/author/J-D-Salinger'],\n",
       "       ['George Carlin', '/author/George-Carlin'],\n",
       "       ['John Lennon', '/author/John-Lennon'],\n",
       "       ['W.C. Fields', '/author/W-C-Fields'],\n",
       "       ['Ayn Rand', '/author/Ayn-Rand'],\n",
       "       ['Mark Twain', '/author/Mark-Twain'],\n",
       "       ['Albert Einstein', '/author/Albert-Einstein'],\n",
       "       ['Jane Austen', '/author/Jane-Austen'],\n",
       "       ['J.K. Rowling', '/author/J-K-Rowling'],\n",
       "       ['Jane Austen', '/author/Jane-Austen'],\n",
       "       ['Jane Austen', '/author/Jane-Austen'],\n",
       "       ['C.S. Lewis', '/author/C-S-Lewis'],\n",
       "       ['C.S. Lewis', '/author/C-S-Lewis'],\n",
       "       ['Mark Twain', '/author/Mark-Twain'],\n",
       "       ['Mark Twain', '/author/Mark-Twain'],\n",
       "       ['C.S. Lewis', '/author/C-S-Lewis'],\n",
       "       ['J.K. Rowling', '/author/J-K-Rowling'],\n",
       "       ['Jimi Hendrix', '/author/Jimi-Hendrix'],\n",
       "       ['J.M. Barrie', '/author/J-M-Barrie'],\n",
       "       ['E.E. Cummings', '/author/E-E-Cummings'],\n",
       "       ['Khaled Hosseini', '/author/Khaled-Hosseini'],\n",
       "       ['Harper Lee', '/author/Harper-Lee'],\n",
       "       [\"Madeleine L'Engle\", '/author/Madeleine-LEngle'],\n",
       "       ['Mark Twain', '/author/Mark-Twain'],\n",
       "       ['Dr. Seuss', '/author/Dr-Seuss'],\n",
       "       ['George R.R. Martin', '/author/George-R-R-Martin']], dtype=object)"
      ]
     },
     "execution_count": 6,
     "metadata": {},
     "output_type": "execute_result"
    }
   ],
   "source": [
    "df.values"
   ]
  },
  {
   "cell_type": "code",
   "execution_count": 7,
   "id": "ceda482c",
   "metadata": {},
   "outputs": [
    {
     "data": {
      "text/plain": [
       "50"
      ]
     },
     "execution_count": 7,
     "metadata": {},
     "output_type": "execute_result"
    }
   ],
   "source": [
    "len(df.drop_duplicates())"
   ]
  },
  {
   "cell_type": "code",
   "execution_count": 8,
   "id": "c4f2fb59",
   "metadata": {},
   "outputs": [],
   "source": [
    "df=df.drop_duplicates()"
   ]
  },
  {
   "cell_type": "code",
   "execution_count": 15,
   "id": "32640094",
   "metadata": {},
   "outputs": [
    {
     "name": "stderr",
     "output_type": "stream",
     "text": [
      "100%|██████████████████████████████████████████████████████████████████████████████████| 50/50 [02:37<00:00,  3.15s/it]\n"
     ]
    }
   ],
   "source": [
    "for page in  tqdm (df.values):\n",
    "    author=page[0]\n",
    "    author_id= page[1]\n",
    "    link=\"https://quotes.toscrape.com/\"+ page[1]\n",
    "    \n",
    "    res=requests.get(link)\n",
    "    soup=BeautifulSoup(res.text,'html.parser')\n",
    "    \n",
    "    text=soup.find('div',class_=\"author-details\").text\n",
    "    \n",
    "    fd=open ('Author/'+ author +'.txt','w', encoding='utf-8')\n",
    "    fd.write(text)\n",
    "    fd.close()\n",
    "    \n",
    " "
   ]
  },
  {
   "cell_type": "code",
   "execution_count": null,
   "id": "dac7be76",
   "metadata": {},
   "outputs": [],
   "source": []
  }
 ],
 "metadata": {
  "kernelspec": {
   "display_name": "Python 3 (ipykernel)",
   "language": "python",
   "name": "python3"
  },
  "language_info": {
   "codemirror_mode": {
    "name": "ipython",
    "version": 3
   },
   "file_extension": ".py",
   "mimetype": "text/x-python",
   "name": "python",
   "nbconvert_exporter": "python",
   "pygments_lexer": "ipython3",
   "version": "3.9.7"
  }
 },
 "nbformat": 4,
 "nbformat_minor": 5
}
